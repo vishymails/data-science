{
 "cells": [
  {
   "cell_type": "code",
   "execution_count": 2,
   "metadata": {},
   "outputs": [
    {
     "name": "stdout",
     "output_type": "stream",
     "text": [
      "unsupported operand type(s) for +: 'int' and 'str'\n"
     ]
    }
   ],
   "source": [
    "try :\n",
    "    a=1\n",
    "    b=\"s\"\n",
    "    c = a+b\n",
    "except NameError as ex1 :\n",
    "    print(\" The user have not defined the variable \")\n",
    "except Exception as ex :\n",
    "    print(ex)"
   ]
  },
  {
   "cell_type": "code",
   "execution_count": 4,
   "metadata": {},
   "outputs": [
    {
     "name": "stdout",
     "output_type": "stream",
     "text": [
      "unsupported operand type(s) for +: 'int' and 'str'\n",
      " mandated operation\n"
     ]
    }
   ],
   "source": [
    "try :\n",
    "    a=1\n",
    "    b=\"s\"\n",
    "    c = a+b\n",
    "except NameError as ex1 :\n",
    "    print(\" The user have not defined the variable \")\n",
    "except Exception as ex :\n",
    "    print(ex)\n",
    "else :\n",
    "    print(a)\n",
    "    print(b)\n",
    "finally :\n",
    "    print(\" mandated operation\")"
   ]
  },
  {
   "cell_type": "code",
   "execution_count": 5,
   "metadata": {},
   "outputs": [],
   "source": [
    "class Error(Exception) :\n",
    "    pass\n",
    "\n",
    "class dobException(Error) :\n",
    "    pass"
   ]
  },
  {
   "cell_type": "code",
   "execution_count": 6,
   "metadata": {},
   "outputs": [
    {
     "name": "stdout",
     "output_type": "stream",
     "text": [
      "The age is not in range\n"
     ]
    }
   ],
   "source": [
    "age= 30\n",
    "\n",
    "try :\n",
    "    if a<=40 & age > 32 :\n",
    "        print(\"The age is valid\")\n",
    "    else :\n",
    "        raise dobException\n",
    "except dobException :\n",
    "    print(\"The age is not in range\")"
   ]
  }
 ],
 "metadata": {
  "kernelspec": {
   "display_name": "Python 3.9.12 ('base')",
   "language": "python",
   "name": "python3"
  },
  "language_info": {
   "codemirror_mode": {
    "name": "ipython",
    "version": 3
   },
   "file_extension": ".py",
   "mimetype": "text/x-python",
   "name": "python",
   "nbconvert_exporter": "python",
   "pygments_lexer": "ipython3",
   "version": "3.9.12"
  },
  "orig_nbformat": 4,
  "vscode": {
   "interpreter": {
    "hash": "cdb51b583fe5a79700d1bb3df041392ce830c189fede056fa7ac4656b08f5336"
   }
  }
 },
 "nbformat": 4,
 "nbformat_minor": 2
}
