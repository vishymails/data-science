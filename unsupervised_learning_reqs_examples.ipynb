{
 "cells": [
  {
   "cell_type": "code",
   "execution_count": 2,
   "metadata": {},
   "outputs": [
    {
     "name": "stdout",
     "output_type": "stream",
     "text": [
      "[3.605551275463989, 9.433981132056603, 5.0]\n",
      "0\n"
     ]
    }
   ],
   "source": [
    "import math \n",
    "import numpy as np \n",
    "\n",
    "def dist(a, b) :\n",
    "    return math.sqrt(math.pow(a[0]-b[0], 2) + math.pow(a[1]-b[1], 2))\n",
    "\n",
    "\n",
    "centroids = [ (2,5), (8, 3), (4,5)]\n",
    "\n",
    "x = (0, 8)\n",
    "\n",
    "centroid_distances = []\n",
    "\n",
    "for centroid in centroids :\n",
    "    centroid_distances.append(dist(x, centroid))\n",
    "\n",
    "print(centroid_distances)\n",
    "print(np.argmin(centroid_distances))\n"
   ]
  },
  {
   "cell_type": "code",
   "execution_count": 3,
   "metadata": {},
   "outputs": [
    {
     "name": "stdout",
     "output_type": "stream",
     "text": [
      "[4.666666666666667, 4.333333333333333]\n"
     ]
    }
   ],
   "source": [
    "cluster_1_points = [(2,5), (8, 3), (4,5)]\n",
    "\n",
    "mean = [(2+8+4)/3, (5+3+5)/3]\n",
    "\n",
    "print(mean)"
   ]
  }
 ],
 "metadata": {
  "kernelspec": {
   "display_name": "Python 3.9.12 ('base')",
   "language": "python",
   "name": "python3"
  },
  "language_info": {
   "codemirror_mode": {
    "name": "ipython",
    "version": 3
   },
   "file_extension": ".py",
   "mimetype": "text/x-python",
   "name": "python",
   "nbconvert_exporter": "python",
   "pygments_lexer": "ipython3",
   "version": "3.9.12"
  },
  "orig_nbformat": 4,
  "vscode": {
   "interpreter": {
    "hash": "cdb51b583fe5a79700d1bb3df041392ce830c189fede056fa7ac4656b08f5336"
   }
  }
 },
 "nbformat": 4,
 "nbformat_minor": 2
}
