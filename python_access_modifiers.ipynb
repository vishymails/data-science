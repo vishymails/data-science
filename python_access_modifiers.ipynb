{
 "cells": [
  {
   "cell_type": "code",
   "execution_count": 1,
   "metadata": {},
   "outputs": [],
   "source": [
    "# PUBLIC VARIABLES \n",
    "\n",
    "\n",
    "class Car() :\n",
    "    def __init__(self, windows, doors, enginetype) :\n",
    "        self.windows = windows\n",
    "        self.doors = doors\n",
    "        self.enginetype = enginetype\n"
   ]
  },
  {
   "cell_type": "code",
   "execution_count": 2,
   "metadata": {},
   "outputs": [
    {
     "data": {
      "text/plain": [
       "6"
      ]
     },
     "execution_count": 2,
     "metadata": {},
     "output_type": "execute_result"
    }
   ],
   "source": [
    "car = Car(4,5,\"petrol\")\n",
    "\n",
    "car.windows = 6\n",
    "\n",
    "car.windows"
   ]
  },
  {
   "cell_type": "code",
   "execution_count": 4,
   "metadata": {},
   "outputs": [
    {
     "data": {
      "text/plain": [
       "['__class__',\n",
       " '__delattr__',\n",
       " '__dict__',\n",
       " '__dir__',\n",
       " '__doc__',\n",
       " '__eq__',\n",
       " '__format__',\n",
       " '__ge__',\n",
       " '__getattribute__',\n",
       " '__gt__',\n",
       " '__hash__',\n",
       " '__init__',\n",
       " '__init_subclass__',\n",
       " '__le__',\n",
       " '__lt__',\n",
       " '__module__',\n",
       " '__ne__',\n",
       " '__new__',\n",
       " '__reduce__',\n",
       " '__reduce_ex__',\n",
       " '__repr__',\n",
       " '__setattr__',\n",
       " '__sizeof__',\n",
       " '__str__',\n",
       " '__subclasshook__',\n",
       " '__weakref__',\n",
       " '_doors',\n",
       " '_enginetype',\n",
       " '_windows',\n",
       " 'horsepower']"
      ]
     },
     "execution_count": 4,
     "metadata": {},
     "output_type": "execute_result"
    }
   ],
   "source": [
    "#CLASS VARIABLES ARE PROTECTED \n",
    "\n",
    "\n",
    "class Car() :\n",
    "    def __init__(self, windows, doors, enginetype) :\n",
    "        self._windows = windows\n",
    "        self._doors = doors\n",
    "        self._enginetype = enginetype\n",
    "\n",
    "\n",
    "class Truck(Car) :\n",
    "    def __init__(self, windows, doors, enginetype, horsepower):\n",
    "        super().__init__(windows, doors, enginetype)\n",
    "        self.horsepower=horsepower\n",
    "\n",
    "\n",
    "\n",
    "\n",
    "truck = Truck(4,4,\"diesel\", 4000)\n",
    "\n",
    "dir(truck)\n"
   ]
  },
  {
   "cell_type": "code",
   "execution_count": 5,
   "metadata": {},
   "outputs": [
    {
     "data": {
      "text/plain": [
       "6"
      ]
     },
     "execution_count": 5,
     "metadata": {},
     "output_type": "execute_result"
    }
   ],
   "source": [
    "truck._doors = 6\n",
    "\n",
    "truck._doors"
   ]
  },
  {
   "cell_type": "code",
   "execution_count": 6,
   "metadata": {},
   "outputs": [
    {
     "data": {
      "text/plain": [
       "['_Car__doors',\n",
       " '_Car__enginetype',\n",
       " '_Car__windows',\n",
       " '__class__',\n",
       " '__delattr__',\n",
       " '__dict__',\n",
       " '__dir__',\n",
       " '__doc__',\n",
       " '__eq__',\n",
       " '__format__',\n",
       " '__ge__',\n",
       " '__getattribute__',\n",
       " '__gt__',\n",
       " '__hash__',\n",
       " '__init__',\n",
       " '__init_subclass__',\n",
       " '__le__',\n",
       " '__lt__',\n",
       " '__module__',\n",
       " '__ne__',\n",
       " '__new__',\n",
       " '__reduce__',\n",
       " '__reduce_ex__',\n",
       " '__repr__',\n",
       " '__setattr__',\n",
       " '__sizeof__',\n",
       " '__str__',\n",
       " '__subclasshook__',\n",
       " '__weakref__']"
      ]
     },
     "execution_count": 6,
     "metadata": {},
     "output_type": "execute_result"
    }
   ],
   "source": [
    "#CLASS VARIABLES ARE PRIVATE \n",
    "\n",
    "\n",
    "class Car() :\n",
    "    def __init__(self, windows, doors, enginetype) :\n",
    "        self.__windows = windows\n",
    "        self.__doors = doors\n",
    "        self.__enginetype = enginetype\n",
    "\n",
    "\n",
    "audi = Car(4,4,'petrol')\n",
    "\n",
    "audi._Car__doors=5\n",
    "\n",
    "\n",
    "dir(audi)"
   ]
  }
 ],
 "metadata": {
  "kernelspec": {
   "display_name": "Python 3.9.12 ('base')",
   "language": "python",
   "name": "python3"
  },
  "language_info": {
   "codemirror_mode": {
    "name": "ipython",
    "version": 3
   },
   "file_extension": ".py",
   "mimetype": "text/x-python",
   "name": "python",
   "nbconvert_exporter": "python",
   "pygments_lexer": "ipython3",
   "version": "3.9.12"
  },
  "orig_nbformat": 4,
  "vscode": {
   "interpreter": {
    "hash": "cdb51b583fe5a79700d1bb3df041392ce830c189fede056fa7ac4656b08f5336"
   }
  }
 },
 "nbformat": 4,
 "nbformat_minor": 2
}
