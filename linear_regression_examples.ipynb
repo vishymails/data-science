{
 "cells": [
  {
   "cell_type": "code",
   "execution_count": null,
   "metadata": {},
   "outputs": [],
   "source": []
  },
  {
   "cell_type": "code",
   "execution_count": 3,
   "metadata": {},
   "outputs": [
    {
     "name": "stdout",
     "output_type": "stream",
     "text": [
      "[[ 3.        ]\n",
      " [ 3.11111111]\n",
      " [ 3.22222222]\n",
      " [ 3.33333333]\n",
      " [ 3.44444444]\n",
      " [ 3.55555556]\n",
      " [ 3.66666667]\n",
      " [ 3.77777778]\n",
      " [ 3.88888889]\n",
      " [ 4.        ]\n",
      " [ 4.11111111]\n",
      " [ 4.22222222]\n",
      " [ 4.33333333]\n",
      " [ 4.44444444]\n",
      " [ 4.55555556]\n",
      " [ 4.66666667]\n",
      " [ 4.77777778]\n",
      " [ 4.88888889]\n",
      " [ 5.        ]\n",
      " [ 5.11111111]\n",
      " [ 5.22222222]\n",
      " [ 5.33333333]\n",
      " [ 5.44444444]\n",
      " [ 5.55555556]\n",
      " [ 5.66666667]\n",
      " [ 5.77777778]\n",
      " [ 5.88888889]\n",
      " [ 6.        ]\n",
      " [ 6.11111111]\n",
      " [ 6.22222222]\n",
      " [ 6.33333333]\n",
      " [ 6.44444444]\n",
      " [ 6.55555556]\n",
      " [ 6.66666667]\n",
      " [ 6.77777778]\n",
      " [ 6.88888889]\n",
      " [ 7.        ]\n",
      " [ 7.11111111]\n",
      " [ 7.22222222]\n",
      " [ 7.33333333]\n",
      " [ 7.44444444]\n",
      " [ 7.55555556]\n",
      " [ 7.66666667]\n",
      " [ 7.77777778]\n",
      " [ 7.88888889]\n",
      " [ 8.        ]\n",
      " [ 8.11111111]\n",
      " [ 8.22222222]\n",
      " [ 8.33333333]\n",
      " [ 8.44444444]\n",
      " [ 8.55555556]\n",
      " [ 8.66666667]\n",
      " [ 8.77777778]\n",
      " [ 8.88888889]\n",
      " [ 9.        ]\n",
      " [ 9.11111111]\n",
      " [ 9.22222222]\n",
      " [ 9.33333333]\n",
      " [ 9.44444444]\n",
      " [ 9.55555556]\n",
      " [ 9.66666667]\n",
      " [ 9.77777778]\n",
      " [ 9.88888889]\n",
      " [10.        ]\n",
      " [10.11111111]\n",
      " [10.22222222]\n",
      " [10.33333333]\n",
      " [10.44444444]\n",
      " [10.55555556]\n",
      " [10.66666667]\n",
      " [10.77777778]\n",
      " [10.88888889]\n",
      " [11.        ]\n",
      " [11.11111111]\n",
      " [11.22222222]\n",
      " [11.33333333]\n",
      " [11.44444444]\n",
      " [11.55555556]\n",
      " [11.66666667]\n",
      " [11.77777778]\n",
      " [11.88888889]\n",
      " [12.        ]\n",
      " [12.11111111]\n",
      " [12.22222222]\n",
      " [12.33333333]\n",
      " [12.44444444]\n",
      " [12.55555556]\n",
      " [12.66666667]\n",
      " [12.77777778]\n",
      " [12.88888889]\n",
      " [13.        ]\n",
      " [13.11111111]\n",
      " [13.22222222]\n",
      " [13.33333333]\n",
      " [13.44444444]\n",
      " [13.55555556]\n",
      " [13.66666667]\n",
      " [13.77777778]\n",
      " [13.88888889]\n",
      " [14.        ]]\n"
     ]
    }
   ],
   "source": [
    "%matplotlib inline\n",
    "\n",
    "import numpy as np\n",
    "from pylab import *\n",
    "import matplotlib.pyplot as plt \n",
    "from sklearn.linear_model import LinearRegression\n",
    "\n",
    "\n",
    "x = 11* np.random.random((10, 1))\n",
    "\n",
    "y = 1.0 * x + 3.0\n",
    "\n",
    "\n",
    "model = LinearRegression()\n",
    "\n",
    "model.fit(x, y)\n",
    "\n",
    "x_pred = np.linspace(0, 11, 100)\n",
    "y_pred = model.predict(x_pred[:, np.newaxis])\n",
    "\n",
    "print (y_pred)\n"
   ]
  },
  {
   "cell_type": "code",
   "execution_count": 5,
   "metadata": {},
   "outputs": [
    {
     "data": {
      "image/png": "[encoded data removed]",
      "text/plain": [
       "<Figure size 288x432 with 1 Axes>"
      ]
     },
     "metadata": {
      "needs_background": "light"
     },
     "output_type": "display_data"
    }
   ],
   "source": [
    "plt.figure(figsize=(4,6))\n",
    "\n",
    "ax = plt.axes()\n",
    "\n",
    "ax.scatter(x, y)\n",
    "\n",
    "ax.plot(x_pred, y_pred)\n",
    "ax.set_xlabel('predicators')\n",
    "ax.set_ylabel('criterion')\n",
    "\n",
    "ax.axis('tight')\n",
    "\n",
    "plt.show()"
   ]
  },
  {
   "cell_type": "code",
   "execution_count": 8,
   "metadata": {},
   "outputs": [
    {
     "name": "stdout",
     "output_type": "stream",
     "text": [
      "[[6.3200e-03 1.8000e+01 2.3100e+00 ... 1.5300e+01 3.9690e+02 4.9800e+00]\n",
      " [2.7310e-02 0.0000e+00 7.0700e+00 ... 1.7800e+01 3.9690e+02 9.1400e+00]\n",
      " [2.7290e-02 0.0000e+00 7.0700e+00 ... 1.7800e+01 3.9283e+02 4.0300e+00]\n",
      " ...\n",
      " [6.0760e-02 0.0000e+00 1.1930e+01 ... 2.1000e+01 3.9690e+02 5.6400e+00]\n",
      " [1.0959e-01 0.0000e+00 1.1930e+01 ... 2.1000e+01 3.9345e+02 6.4800e+00]\n",
      " [4.7410e-02 0.0000e+00 1.1930e+01 ... 2.1000e+01 3.9690e+02 7.8800e+00]]\n",
      "----------------------------------------------\n",
      "[24.  21.6 34.7 33.4 36.2 28.7 22.9 27.1 16.5 18.9 15.  18.9 21.7 20.4\n",
      " 18.2 19.9 23.1 17.5 20.2 18.2 13.6 19.6 15.2 14.5 15.6 13.9 16.6 14.8\n",
      " 18.4 21.  12.7 14.5 13.2 13.1 13.5 18.9 20.  21.  24.7 30.8 34.9 26.6\n",
      " 25.3 24.7 21.2 19.3 20.  16.6 14.4 19.4 19.7 20.5 25.  23.4 18.9 35.4\n",
      " 24.7 31.6 23.3 19.6 18.7 16.  22.2 25.  33.  23.5 19.4 22.  17.4 20.9\n",
      " 24.2 21.7 22.8 23.4 24.1 21.4 20.  20.8 21.2 20.3 28.  23.9 24.8 22.9\n",
      " 23.9 26.6 22.5 22.2 23.6 28.7 22.6 22.  22.9 25.  20.6 28.4 21.4 38.7\n",
      " 43.8 33.2 27.5 26.5 18.6 19.3 20.1 19.5 19.5 20.4 19.8 19.4 21.7 22.8\n",
      " 18.8 18.7 18.5 18.3 21.2 19.2 20.4 19.3 22.  20.3 20.5 17.3 18.8 21.4\n",
      " 15.7 16.2 18.  14.3 19.2 19.6 23.  18.4 15.6 18.1 17.4 17.1 13.3 17.8\n",
      " 14.  14.4 13.4 15.6 11.8 13.8 15.6 14.6 17.8 15.4 21.5 19.6 15.3 19.4\n",
      " 17.  15.6 13.1 41.3 24.3 23.3 27.  50.  50.  50.  22.7 25.  50.  23.8\n",
      " 23.8 22.3 17.4 19.1 23.1 23.6 22.6 29.4 23.2 24.6 29.9 37.2 39.8 36.2\n",
      " 37.9 32.5 26.4 29.6 50.  32.  29.8 34.9 37.  30.5 36.4 31.1 29.1 50.\n",
      " 33.3 30.3 34.6 34.9 32.9 24.1 42.3 48.5 50.  22.6 24.4 22.5 24.4 20.\n",
      " 21.7 19.3 22.4 28.1 23.7 25.  23.3 28.7 21.5 23.  26.7 21.7 27.5 30.1\n",
      " 44.8 50.  37.6 31.6 46.7 31.5 24.3 31.7 41.7 48.3 29.  24.  25.1 31.5\n",
      " 23.7 23.3 22.  20.1 22.2 23.7 17.6 18.5 24.3 20.5 24.5 26.2 24.4 24.8\n",
      " 29.6 42.8 21.9 20.9 44.  50.  36.  30.1 33.8 43.1 48.8 31.  36.5 22.8\n",
      " 30.7 50.  43.5 20.7 21.1 25.2 24.4 35.2 32.4 32.  33.2 33.1 29.1 35.1\n",
      " 45.4 35.4 46.  50.  32.2 22.  20.1 23.2 22.3 24.8 28.5 37.3 27.9 23.9\n",
      " 21.7 28.6 27.1 20.3 22.5 29.  24.8 22.  26.4 33.1 36.1 28.4 33.4 28.2\n",
      " 22.8 20.3 16.1 22.1 19.4 21.6 23.8 16.2 17.8 19.8 23.1 21.  23.8 23.1\n",
      " 20.4 18.5 25.  24.6 23.  22.2 19.3 22.6 19.8 17.1 19.4 22.2 20.7 21.1\n",
      " 19.5 18.5 20.6 19.  18.7 32.7 16.5 23.9 31.2 17.5 17.2 23.1 24.5 26.6\n",
      " 22.9 24.1 18.6 30.1 18.2 20.6 17.8 21.7 22.7 22.6 25.  19.9 20.8 16.8\n",
      " 21.9 27.5 21.9 23.1 50.  50.  50.  50.  50.  13.8 13.8 15.  13.9 13.3\n",
      " 13.1 10.2 10.4 10.9 11.3 12.3  8.8  7.2 10.5  7.4 10.2 11.5 15.1 23.2\n",
      "  9.7 13.8 12.7 13.1 12.5  8.5  5.   6.3  5.6  7.2 12.1  8.3  8.5  5.\n",
      " 11.9 27.9 17.2 27.5 15.  17.2 17.9 16.3  7.   7.2  7.5 10.4  8.8  8.4\n",
      " 16.7 14.2 20.8 13.4 11.7  8.3 10.2 10.9 11.   9.5 14.5 14.1 16.1 14.3\n",
      " 11.7 13.4  9.6  8.7  8.4 12.8 10.5 17.1 18.4 15.4 10.8 11.8 14.9 12.6\n",
      " 14.1 13.  13.4 15.2 16.1 17.8 14.9 14.1 12.7 13.5 14.9 20.  16.4 17.7\n",
      " 19.5 20.2 21.4 19.9 19.  19.1 19.1 20.1 19.9 19.6 23.2 29.8 13.8 13.3\n",
      " 16.7 12.  14.6 21.4 23.  23.7 25.  21.8 20.6 21.2 19.1 20.6 15.2  7.\n",
      "  8.1 13.6 20.1 21.8 24.5 23.1 19.7 18.3 21.2 17.5 16.8 22.4 20.6 23.9\n",
      " 22.  11.9]\n"
     ]
    },
    {
     "name": "stderr",
     "output_type": "stream",
     "text": [
      "c:\\Users\\dr_vi\\anaconda3\\lib\\site-packages\\sklearn\\utils\\deprecation.py:87: FutureWarning: Function load_boston is deprecated; `load_boston` is deprecated in 1.0 and will be removed in 1.2.\n",
      "\n",
      "    The Boston housing prices dataset has an ethical problem. You can refer to\n",
      "    the documentation of this function for further details.\n",
      "\n",
      "    The scikit-learn maintainers therefore strongly discourage the use of this\n",
      "    dataset unless the purpose of the code is to study and educate about\n",
      "    ethical issues in data science and machine learning.\n",
      "\n",
      "    In this special case, you can fetch the dataset from the original\n",
      "    source::\n",
      "\n",
      "        import pandas as pd\n",
      "        import numpy as np\n",
      "\n",
      "\n",
      "        data_url = \"http://lib.stat.cmu.edu/datasets/boston\"\n",
      "        raw_df = pd.read_csv(data_url, sep=\"\\s+\", skiprows=22, header=None)\n",
      "        data = np.hstack([raw_df.values[::2, :], raw_df.values[1::2, :2]])\n",
      "        target = raw_df.values[1::2, 2]\n",
      "\n",
      "    Alternative datasets include the California housing dataset (i.e.\n",
      "    :func:`~sklearn.datasets.fetch_california_housing`) and the Ames housing\n",
      "    dataset. You can load the datasets as follows::\n",
      "\n",
      "        from sklearn.datasets import fetch_california_housing\n",
      "        housing = fetch_california_housing()\n",
      "\n",
      "    for the California housing dataset and::\n",
      "\n",
      "        from sklearn.datasets import fetch_openml\n",
      "        housing = fetch_openml(name=\"house_prices\", as_frame=True)\n",
      "\n",
      "    for the Ames housing dataset.\n",
      "    \n",
      "  warnings.warn(msg, category=FutureWarning)\n"
     ]
    }
   ],
   "source": [
    "# LINEAR REGRESSION USING REAL DATA \n",
    "\n",
    "\n",
    "import numpy as np\n",
    "import matplotlib.pyplot as plt \n",
    "from sklearn import datasets, linear_model, metrics \n",
    "\n",
    "boston = datasets.load_boston(return_X_y = False )\n",
    "\n",
    "X = boston.data\n",
    "\n",
    "y = boston.target\n",
    "\n",
    "print (X)\n",
    "\n",
    "\n",
    "print(\"----------------------------------------------\")\n",
    "\n",
    "print(y)"
   ]
  },
  {
   "cell_type": "code",
   "execution_count": 11,
   "metadata": {},
   "outputs": [
    {
     "name": "stdout",
     "output_type": "stream",
     "text": [
      "[[5.09017e+00 0.00000e+00 1.81000e+01 ... 2.02000e+01 3.85090e+02\n",
      "  1.72700e+01]\n",
      " [6.16200e-02 0.00000e+00 4.39000e+00 ... 1.88000e+01 3.64610e+02\n",
      "  1.26700e+01]\n",
      " [1.29320e-01 0.00000e+00 1.39200e+01 ... 1.60000e+01 3.96900e+02\n",
      "  6.27000e+00]\n",
      " ...\n",
      " [5.87205e+00 0.00000e+00 1.81000e+01 ... 2.02000e+01 3.96900e+02\n",
      "  1.93700e+01]\n",
      " [3.30450e-01 0.00000e+00 6.20000e+00 ... 1.74000e+01 3.76750e+02\n",
      "  1.08800e+01]\n",
      " [8.01400e-02 0.00000e+00 5.96000e+00 ... 1.92000e+01 3.96900e+02\n",
      "  8.77000e+00]]\n",
      "----------------------------------------------\n",
      "[[4.93200e-02 3.30000e+01 2.18000e+00 ... 1.84000e+01 3.96900e+02\n",
      "  7.53000e+00]\n",
      " [2.54300e-02 5.50000e+01 3.78000e+00 ... 1.76000e+01 3.96900e+02\n",
      "  7.18000e+00]\n",
      " [2.29270e-01 0.00000e+00 6.91000e+00 ... 1.79000e+01 3.92740e+02\n",
      "  1.88000e+01]\n",
      " ...\n",
      " [5.66637e+00 0.00000e+00 1.81000e+01 ... 2.02000e+01 3.95690e+02\n",
      "  1.65900e+01]\n",
      " [1.88110e+01 0.00000e+00 1.81000e+01 ... 2.02000e+01 2.87900e+01\n",
      "  3.43700e+01]\n",
      " [1.40520e-01 0.00000e+00 1.05900e+01 ... 1.86000e+01 3.85810e+02\n",
      "  9.38000e+00]]\n",
      "----------------------------------------------\n",
      "[16.1 17.2 28.6 23.6 20.4 19.6 18.8 22.6 17.7 30.5 18.2 20.6 24.4 17.3\n",
      " 13.3 22.8 20.5 21.2 18.8 18.9 18.2 23.1 32.7 24.  10.2 19.5 33.1 13.4\n",
      " 15.2 24.8 24.3  9.5 24.2 18.5 44.  50.  24.7 21.5  8.4 21.8 50.  23.8\n",
      " 32.4 24.4 17.6 29.8  9.6 16.7 13.8 32.  16.1  8.3 26.6 14.3 15.  28.4\n",
      " 32.2 17.1 29.4 10.4 16.8 31.5 27.5 46.7 27.5 17.2 23.4 31.6 13.8 22.\n",
      " 17.  24.8 24.3 25.2 21.2 20.6 18.7  5.6 19.3 19.8 22.3 20.3 12.  23.9\n",
      " 16.5 13.2 33.2 10.5  7.5 27.5 18.4 23.2 13.8 35.4 23.  25.   7.2 14.4\n",
      "  8.8 22.7 13.1 18.9 25.   8.5 16.1 29.  23.1 19.3 33.1 24.6 23.  15.2\n",
      " 27.1 19.6 24.5 20.3 34.9 17.1 15.6 26.4 22.6 15.6 29.  21.2 22.4 13.5\n",
      " 11.7 17.1 31.7 28.7 24.7 19.   7.2 13.8 12.8 36.2 38.7 18.5 29.1 20.4\n",
      " 11.3 17.4  8.7 18.9 23.2 22.2 29.1 34.6 25.  23.2 37.9  7.  18.2 19.3\n",
      " 26.7 19.2 30.1 20.6 50.  18.7 20.6 31.1 14.  17.8 42.3 15.3 18.5 21.4\n",
      " 15.  20.7 21.4 21.7 22.  31.6 22.  10.2 22.6 20.  17.8 13.6 11.8 19.4\n",
      " 21.4 32.9 20.8 31.  17.5 15.4 10.8 34.7 25.  48.8 42.8 19.5 30.1 22.2\n",
      " 50.  23.1 32.5 19.6 14.9 26.4 37.  24.1 24.5 23.7  7.  22.2 23.3 15.6\n",
      " 13.4 30.7 22.3 17.4 50.  22.9 19.7 15.6 17.8 10.9 35.1 15.7 50.  22.8\n",
      " 19.9 20.1 19.4 46.  23.2 37.6 23.1 13.9 33.3 33.  19.9 20.3 50.  19.4\n",
      " 19.5 22.8 16.6 20.  24.7 45.4 33.4 21.4 19.4  5.   7.4 20.1 12.7 20.3\n",
      " 14.1 18.3 19.9 23.3 36.5 20.  17.8  8.8 21.6 21.6 15.2 19.8 21.  27.1\n",
      " 16.8 14.4 22.5 18.6 20.1 19.6 25.  17.4 19.7  5.  16.3 13.1 29.6 13.1\n",
      " 19.1 12.1 21.7 21.9 33.2 29.9 35.4 15.1 31.5 21.7 16.4 14.3 11.8 14.1\n",
      " 21.1 18.4 48.5 13.8 20.9 22.8 12.5 24.  21. ]\n",
      "----------------------------------------------\n",
      "[28.2 23.9 16.6 22.  20.8 23.  27.9 14.5 21.5 22.6 23.7 31.2 19.3 19.4\n",
      " 19.4 27.9 13.9 50.  24.1 14.6 16.2 15.6 23.8 25.  23.5  8.3 13.5 17.5\n",
      " 43.1 11.5 24.1 18.5 50.  12.6 19.8 24.5 14.9 36.2 11.9 19.1 22.6 20.7\n",
      " 30.1 13.3 14.6  8.4 50.  12.7 25.  18.6 29.8 22.2 28.7 23.8  8.1 22.2\n",
      "  6.3 22.1 17.5 48.3 16.7 26.6  8.5 14.5 23.7 37.2 41.7 16.5 21.7 22.7\n",
      " 23.  10.5 21.9 21.  20.4 21.8 50.  22.  23.3 37.3 18.  19.2 34.9 13.4\n",
      " 22.9 22.5 13.  24.6 18.3 18.1 23.9 50.  13.6 22.9 10.9 18.9 22.4 22.9\n",
      " 44.8 21.7 10.2 15.4 25.3 23.3  7.2 21.2 11.7 27.  29.6 26.5 43.5 23.6\n",
      " 11.  33.4 36.  36.4 19.  20.2 34.9 50.  19.3 14.9 26.6 19.9 24.8 21.2\n",
      " 23.9 20.6 23.1 28.  20.  23.1 25.   9.7 23.9 36.1 13.4 12.7 39.8 10.4\n",
      " 20.6 17.8 19.5 23.7 28.5 24.3 23.8 19.1 28.4 20.5 33.8 14.5 20.4 16.\n",
      " 13.3 30.8 27.5 24.4 24.4 25.1 43.8 21.9 26.2 14.2 20.8 20.1 23.1 13.1\n",
      " 16.2 24.8 20.2 22.5 14.8 28.7 20.1 23.4 32.  19.1 50.  20.9 21.7 22.\n",
      " 17.2 30.3 12.3 21.4 20.5 35.2 19.6 22.  21.7 14.1 21.1 15.  11.9 20.\n",
      " 41.3 18.7 50.  50.  18.4 17.9 28.1]\n",
      "----------------------------------------------\n"
     ]
    }
   ],
   "source": [
    "from sklearn.model_selection import train_test_split\n",
    "\n",
    "X_train, X_test, y_train, y_test = train_test_split(X, y, test_size=0.4, random_state=1)\n",
    "\n",
    "\n",
    "print(X_train)\n",
    "print(\"----------------------------------------------\")\n",
    "\n",
    "print(X_test)\n",
    "print(\"----------------------------------------------\")\n",
    "\n",
    "\n",
    "print(y_train)\n",
    "print(\"----------------------------------------------\")\n",
    "\n",
    "print(y_test)\n",
    "print(\"----------------------------------------------\")"
   ]
  },
  {
   "cell_type": "code",
   "execution_count": 16,
   "metadata": {},
   "outputs": [
    {
     "name": "stdout",
     "output_type": "stream",
     "text": [
      "[32.5767836  28.31584043 18.02490895 21.22723902 18.30706301 20.41855673\n",
      " 33.00388637 18.23492365 24.15996405 26.44388935 26.89587445 29.11404673\n",
      " 20.47403529 26.72290735 23.00917779 20.06036007 17.93614868 38.60918158\n",
      " 30.21848598  8.72510853 20.4218793  15.62926355 25.14572116 24.8208665\n",
      " 31.33254683 10.32111619 13.97300109 16.59941009 36.11111224 14.50980925\n",
      " 21.75924461 14.18085506 43.80568262 18.29067878 21.0769219  20.36535011\n",
      " 17.77192542 27.41157074  8.78516292 19.77211274 23.57601701 21.48478378\n",
      " 29.01124151 16.29101185 19.34443514 14.72102079 39.10168604 18.15651807\n",
      " 24.90906159 19.6083671  25.34392074 24.35100549 24.85160986 25.8996609\n",
      "  4.61421883 24.39859206 11.27077844 26.40774218 17.10969386 36.0904063\n",
      " 19.67664968 27.23937264 16.53365016 18.15907977 11.30355765 31.98198816\n",
      " 36.95839215 21.45909144 24.13250983 24.41496302 23.46245892  6.98544199\n",
      " 15.69004286 20.90901803 20.65100918 21.09179956 33.62584873 27.8598505\n",
      " 25.06231279 35.46695443 19.31464639 23.27640089 34.32534674 13.58758135\n",
      " 21.29042943 29.80515072 17.35561076 24.38496524 18.98886858 17.72392536\n",
      " 27.41848903 41.95804013 14.32450982 22.80526735 14.58973366 21.50406424\n",
      " 23.47838791 29.22720261 37.22516161 20.54563964 16.4155803  18.21326206\n",
      " 24.79190815 22.25545086  8.71421282 21.20296216 14.73006456 31.54715088\n",
      " 24.20086147 25.3096051  38.17624923 28.22033166 14.37458901 35.30227817\n",
      " 35.46142453 32.87020186 21.1279694  16.28659179 35.03740942 39.61343221\n",
      " 20.6454664  15.3793382  27.47891053 18.95323784 27.53056862 21.05405081\n",
      " 25.42966851 22.3802906  22.39038473 28.45198817 20.22140822 23.97529302\n",
      " 29.3329107  10.42025171 27.15016037 33.04900847 14.17365766 12.83532496\n",
      " 33.72427748 15.75277802 18.74314445 16.92420179 17.25379375 28.3965777\n",
      " 34.54366224 20.48365583 24.6039962  17.09621043 27.88327386 20.94139341\n",
      " 33.84747506 14.1550611  19.64551137 19.15713668 20.27286545 32.31111862\n",
      " 14.5293722  28.45970824 22.89421306 28.99015547 34.07565321 36.30114489\n",
      " 24.33596177 18.20586396 18.66196259 21.77461959 26.82240611 16.25068292\n",
      " 15.71220696 26.18366066 22.38663042 17.90882485 14.97788993 30.00806408\n",
      " 18.79394999 23.84446541 33.24922009 23.92154382 35.84412917 20.92896735\n",
      " 22.89134963 26.73756655 17.04759586 33.24629887 13.39552963 22.78231362\n",
      " 20.38562111 34.74095998 21.57933645 22.22992201 20.74941001 15.84277665\n",
      " 22.51506659 25.269853   22.36898011 18.63792899 32.47683751 21.31930513\n",
      " 34.81808291 25.36978941 18.81849169  2.52098402 24.88844846]\n",
      "----------------------------------------------\n"
     ]
    }
   ],
   "source": [
    "reg = linear_model.LinearRegression()\n",
    "\n",
    "reg.fit(X_train, y_train)\n",
    "\n",
    "\n",
    "# actual prediction \n",
    "\n",
    "y_pred = reg.predict(X_test)\n",
    "\n",
    "\n",
    "print(y_pred)\n",
    "print(\"----------------------------------------------\")\n",
    "\n",
    "\n"
   ]
  },
  {
   "cell_type": "code",
   "execution_count": 15,
   "metadata": {},
   "outputs": [
    {
     "name": "stdout",
     "output_type": "stream",
     "text": [
      "Coefficients : \n",
      " [-8.95714048e-02  6.73132853e-02  5.04649248e-02  2.18579583e+00\n",
      " -1.72053975e+01  3.63606995e+00  2.05579939e-03 -1.36602886e+00\n",
      "  2.89576718e-01 -1.22700072e-02 -8.34881849e-01  9.40360790e-03\n",
      " -5.04008320e-01]\n",
      "----------------------------------------------\n"
     ]
    }
   ],
   "source": [
    "#regression coefficients \n",
    "\n",
    "print (\"Coefficients : \\n\", reg.coef_)\n",
    "\n",
    "print(\"----------------------------------------------\")\n",
    "\n"
   ]
  },
  {
   "cell_type": "code",
   "execution_count": 17,
   "metadata": {},
   "outputs": [
    {
     "name": "stdout",
     "output_type": "stream",
     "text": [
      "Intercept : \n",
      " 33.79211250936575\n",
      "----------------------------------------------\n"
     ]
    }
   ],
   "source": [
    "# calculate intercept \n",
    "\n",
    "print (\"Intercept : \\n\", reg.intercept_)\n",
    "\n",
    "print(\"----------------------------------------------\")\n",
    "\n"
   ]
  },
  {
   "cell_type": "code",
   "execution_count": 18,
   "metadata": {},
   "outputs": [
    {
     "name": "stdout",
     "output_type": "stream",
     "text": [
      "variance score  : 0.720905667266178  \n",
      "\n",
      "----------------------------------------------\n"
     ]
    }
   ],
   "source": [
    "# variance score : 1 means perfect prediction \n",
    "\n",
    "print (\"variance score  : {}  \\n\".format(reg.score(X_test, y_test)))\n",
    "\n",
    "print(\"----------------------------------------------\")\n",
    "\n"
   ]
  },
  {
   "cell_type": "code",
   "execution_count": 20,
   "metadata": {},
   "outputs": [
    {
     "data": {
      "image/png": "[encoded data removed]",
      "text/plain": [
       "<Figure size 432x288 with 1 Axes>"
      ]
     },
     "metadata": {},
     "output_type": "display_data"
    }
   ],
   "source": [
    "plt.style.use('fivethirtyeight')\n",
    "\n",
    "plt.scatter(reg.predict(X_train), reg.predict(X_train) - y_train, color = \"g\", s= 10, label=\"Train Data\")\n",
    "\n",
    "plt.scatter(reg.predict(X_test), reg.predict(X_test) - y_test, color = \"red\", s= 10, label=\"Test Data\")\n",
    "\n",
    "\n",
    "\n",
    "# zero residual errors \n",
    "\n",
    "plt.hlines(y = 0, xmin = 0, xmax= 50, linewidth = 2)\n",
    "\n",
    "\n",
    "# plotting the graph\n",
    "\n",
    "plt.legend(loc = 'upper right')\n",
    "\n",
    "plt.title(\"Residual Errors \")\n",
    "\n",
    "plt.show()"
   ]
  },
  {
   "cell_type": "code",
   "execution_count": 21,
   "metadata": {},
   "outputs": [
    {
     "data": {
      "image/png": "[encoded data removed]",
      "text/plain": [
       "<Figure size 432x288 with 1 Axes>"
      ]
     },
     "metadata": {},
     "output_type": "display_data"
    }
   ],
   "source": [
    "plt.style.use('ggplot')\n",
    "\n",
    "plt.scatter(reg.predict(X_train), reg.predict(X_train) - y_train, color = \"g\", s= 10, label=\"Train Data\")\n",
    "\n",
    "plt.scatter(reg.predict(X_test), reg.predict(X_test) - y_test, color = \"red\", s= 10, label=\"Test Data\")\n",
    "\n",
    "\n",
    "\n",
    "# zero residual errors \n",
    "\n",
    "plt.hlines(y = 0, xmin = 0, xmax= 50, linewidth = 2)\n",
    "\n",
    "\n",
    "# plotting the graph\n",
    "\n",
    "plt.legend(loc = 'upper right')\n",
    "\n",
    "plt.title(\"Residual Errors \")\n",
    "\n",
    "plt.show()"
   ]
  },
  {
   "cell_type": "code",
   "execution_count": 25,
   "metadata": {},
   "outputs": [
    {
     "data": {
      "image/png": "[encoded data removed]",
      "text/plain": [
       "<Figure size 432x288 with 1 Axes>"
      ]
     },
     "metadata": {},
     "output_type": "display_data"
    }
   ],
   "source": [
    "plt.style.use('dark_background')\n",
    "\n",
    "plt.scatter(reg.predict(X_train), reg.predict(X_train) - y_train, color = \"g\", s= 10, label=\"Train Data\")\n",
    "\n",
    "plt.scatter(reg.predict(X_test), reg.predict(X_test) - y_test, color = \"red\", s= 10, label=\"Test Data\")\n",
    "\n",
    "\n",
    "\n",
    "# zero residual errors \n",
    "\n",
    "plt.hlines(y = 0, xmin = 0, xmax= 50, linewidth = 2)\n",
    "\n",
    "\n",
    "# plotting the graph\n",
    "\n",
    "plt.legend(loc = 'upper right')\n",
    "\n",
    "plt.title(\"Residual Errors \")\n",
    "\n",
    "plt.show()"
   ]
  },
  {
   "cell_type": "code",
   "execution_count": null,
   "metadata": {},
   "outputs": [],
   "source": []
  }
 ],
 "metadata": {
  "kernelspec": {
   "display_name": "Python 3.9.12 ('base')",
   "language": "python",
   "name": "python3"
  },
  "language_info": {
   "codemirror_mode": {
    "name": "ipython",
    "version": 3
   },
   "file_extension": ".py",
   "mimetype": "text/x-python",
   "name": "python",
   "nbconvert_exporter": "python",
   "pygments_lexer": "ipython3",
   "version": "3.9.12"
  },
  "orig_nbformat": 4,
  "vscode": {
   "interpreter": {
    "hash": "cdb51b583fe5a79700d1bb3df041392ce830c189fede056fa7ac4656b08f5336"
   }
  }
 },
 "nbformat": 4,
 "nbformat_minor": 2
}
