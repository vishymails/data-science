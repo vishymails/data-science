{
 "cells": [
  {
   "cell_type": "code",
   "execution_count": 2,
   "metadata": {},
   "outputs": [
    {
     "data": {
      "text/plain": [
       "'Hello Oracle welcome to Data science'"
      ]
     },
     "execution_count": 2,
     "metadata": {},
     "output_type": "execute_result"
    }
   ],
   "source": [
    "# FUNCTION COPY \n",
    "\n",
    "def welcome() :\n",
    "    return \"Hello Oracle welcome to Data science\"\n",
    "\n",
    "\n",
    "\n",
    "wel = welcome()\n",
    "\n",
    "del welcome\n",
    "\n",
    "\n",
    "wel"
   ]
  },
  {
   "cell_type": "code",
   "execution_count": 3,
   "metadata": {},
   "outputs": [
    {
     "ename": "NameError",
     "evalue": "name 'welcome' is not defined",
     "output_type": "error",
     "traceback": [
      "\u001b[1;31m---------------------------------------------------------------------------\u001b[0m",
      "\u001b[1;31mNameError\u001b[0m                                 Traceback (most recent call last)",
      "\u001b[1;32mc:\\CLASSROOM\\DATASCIENCE\\python_decorators.ipynb Cell 2\u001b[0m in \u001b[0;36m<cell line: 1>\u001b[1;34m()\u001b[0m\n\u001b[1;32m----> <a href='vscode-notebook-cell:/c%3A/CLASSROOM/DATASCIENCE/python_decorators.ipynb#W1sZmlsZQ%3D%3D?line=0'>1</a>\u001b[0m welcome()\n",
      "\u001b[1;31mNameError\u001b[0m: name 'welcome' is not defined"
     ]
    }
   ],
   "source": [
    "welcome()"
   ]
  },
  {
   "cell_type": "code",
   "execution_count": 4,
   "metadata": {},
   "outputs": [
    {
     "name": "stdout",
     "output_type": "stream",
     "text": [
      "Hello Oracle \n",
      "Dr. Rao\n",
      "Welcome to Data Science \n"
     ]
    }
   ],
   "source": [
    "# CLOSURES\n",
    "\n",
    "def main_welcome(msg) :\n",
    "\n",
    "    def sub_welcome_class() :\n",
    "        print(\"Hello Oracle \")\n",
    "        print(msg)\n",
    "        print(\"Welcome to Data Science \")\n",
    "    return sub_welcome_class()\n",
    "\n",
    "\n",
    "\n",
    "\n",
    "main_welcome(\"Dr. Rao\")"
   ]
  },
  {
   "cell_type": "code",
   "execution_count": 5,
   "metadata": {},
   "outputs": [
    {
     "name": "stdout",
     "output_type": "stream",
     "text": [
      "Hello Oracle \n",
      "Welcome from decorator - Dr.Rao\n",
      "Welcome to Data Science \n"
     ]
    }
   ],
   "source": [
    "# DECORATORS\n",
    "\n",
    "def main_welcome(func) :\n",
    "\n",
    "    def sub_welcome_class() :\n",
    "        print(\"Hello Oracle \")\n",
    "        func()\n",
    "        print(\"Welcome to Data Science \")\n",
    "    return sub_welcome_class()\n",
    "\n",
    "\n",
    "\n",
    "\n",
    "@main_welcome\n",
    "def channel_name() :\n",
    "    print(\"Welcome from decorator - Dr.Rao\")"
   ]
  },
  {
   "cell_type": "code",
   "execution_count": null,
   "metadata": {},
   "outputs": [],
   "source": []
  }
 ],
 "metadata": {
  "kernelspec": {
   "display_name": "Python 3.9.12 ('base')",
   "language": "python",
   "name": "python3"
  },
  "language_info": {
   "codemirror_mode": {
    "name": "ipython",
    "version": 3
   },
   "file_extension": ".py",
   "mimetype": "text/x-python",
   "name": "python",
   "nbconvert_exporter": "python",
   "pygments_lexer": "ipython3",
   "version": "3.9.12"
  },
  "orig_nbformat": 4,
  "vscode": {
   "interpreter": {
    "hash": "cdb51b583fe5a79700d1bb3df041392ce830c189fede056fa7ac4656b08f5336"
   }
  }
 },
 "nbformat": 4,
 "nbformat_minor": 2
}
